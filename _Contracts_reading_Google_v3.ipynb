{
 "cells": [
  {
   "cell_type": "markdown",
   "metadata": {},
   "source": [
    "# Introduction\n",
    "\n",
    "\"\"\"\n",
    "@author: ArturKovalchuk\n",
    "\"\"\"\n",
    "\n",
    "**\n",
    "IMPORTANT:\n",
    "works only with Python 3.5**\n",
    "1. Install Magic Wand (need older version)\n",
    "available here: https://ftp.icm.edu.pl/packages/ImageMagick/binaries/\n",
    "    ImageMagick-6.9.8-9-Q16-x64-dll.exe\n",
    "2. Do this:\n",
    "    http://docs.wand-py.org/en/latest/guide/install.html#install-imagemagick-on-windows\n",
    "or here: http://docs.wand-py.org/en/0.2-maintenance/_images/windows-envvar.png\n",
    "3. From Conda install Wand:\n",
    "    pip install Wand\n",
    "4. https://github.com/UB-Mannheim/tesseract/wiki    and here    https://github.com/UB-Mannheim/tesseract/wiki\n",
    "\n",
    "https://ghostscript.com/Ghostscript_9.22.html\n",
    "\n",
    "Additional info:\n",
    "\n",
    "https://gist.github.com/dannguyen/a0b69c84ebc00c54c94d\n",
    "\n",
    "https://testpypi.python.org/pypi/pytesseract\n",
    "\n",
    "https://github.com/tesseract-ocr/tesseract/wiki\n",
    "\n",
    "https://github.com/UB-Mannheim/tesseract/wiki\n"
   ]
  },
  {
   "cell_type": "markdown",
   "metadata": {},
   "source": [
    "In order to create new environment, You need to run these commands in the console:\n",
    "- **conda create -n python_3.5 python=3.5 anaconda** # creates new environment with Python 3.5\n",
    "- **pip install wand** # installs wand for converting pdf to jpg\n",
    "- **pip install pytesseract** # installs pytesseract for OCR"
   ]
  },
  {
   "cell_type": "markdown",
   "metadata": {},
   "source": [
    "**Activate Google Vision API, including credentials**"
   ]
  },
  {
   "cell_type": "markdown",
   "metadata": {},
   "source": [
    "### Check the environment we are working in:"
   ]
  },
  {
   "cell_type": "code",
   "execution_count": 1,
   "metadata": {},
   "outputs": [
    {
     "name": "stdout",
     "output_type": "stream",
     "text": [
      "3.5.4 |Anaconda custom (64-bit)| (default, Sep 19 2017, 08:15:17) [MSC v.1900 64 bit (AMD64)]\n"
     ]
    }
   ],
   "source": [
    "#Check the environment python version\n",
    "import sys\n",
    "print(sys.version)"
   ]
  },
  {
   "cell_type": "markdown",
   "metadata": {},
   "source": [
    "### Import the liabraries we need:"
   ]
  },
  {
   "cell_type": "code",
   "execution_count": 2,
   "metadata": {
    "collapsed": true,
    "run_control": {
     "marked": false
    },
    "scrolled": true
   },
   "outputs": [],
   "source": [
    "# for working with files    \n",
    "import io\n",
    "import os\n",
    "\n",
    "# for data manipulation\n",
    "import pandas as pd\n",
    "\n",
    "# for downloading\n",
    "import requests\n",
    "\n",
    "# for converting pdf to jpg with processing\n",
    "from wand.image import Image as wImage\n",
    "\n",
    "# Imports the Google Cloud client library\n",
    "from google.cloud import vision\n",
    "from google.cloud.vision import types    \n",
    "\n",
    "# IMPORTANT: activate the credentials for Google API\n",
    "# Instantiates a client\n",
    "client = vision.ImageAnnotatorClient()#creds=json.load(open('Prozorro_prices-febfc26c2945.json')) #credentials=creds"
   ]
  },
  {
   "cell_type": "markdown",
   "metadata": {
    "collapsed": true
   },
   "source": [
    "### Create the functions we need:"
   ]
  },
  {
   "cell_type": "code",
   "execution_count": null,
   "metadata": {
    "collapsed": true
   },
   "outputs": [],
   "source": [
    "def download_contract(url, contract_id):\n",
    "    \"\"\"The unction takes contract's url and id, and downloads conttract to the disc\"\"\"\n",
    "    response = requests.get(url)\n",
    "\n",
    "    file_name =contract_id + \".pdf\"\n",
    "    with open(file_name, 'wb') as f:\n",
    "         f.write(response.content)\n",
    "    return file_name"
   ]
  },
  {
   "cell_type": "code",
   "execution_count": null,
   "metadata": {
    "collapsed": true
   },
   "outputs": [],
   "source": [
    "def convert_pdf_to_single_page_img(file_name, start_page=0, end_page=0):  \n",
    "    \"\"\"Function takes pdf file and converts it to the single-page image.\n",
    "        Input:\n",
    "            file_name - name of the pdf-file;\n",
    "            start_page - starting page of the pdf-file to convert;\n",
    "            end_page - final page of the pdf-file to convert.\n",
    "        Output:\n",
    "            name of the single-page image file saved.\n",
    "    \"\"\"\n",
    "    with wImage(filename=file_name, resolution=300) as img:\n",
    "        width_pdf=max([image.width for image in img.sequence]) # width of the document\n",
    "        height_pdf=sum([image.height for image in img.sequence]) # lenght of the document\n",
    "        \n",
    "        with wImage() as blankimage:\n",
    "            blankimage.blank(width=width_pdf, height=height_pdf)\n",
    "            \n",
    "            width_blank=0; height_blank=0\n",
    "            for page_num in range(start_page, len(img.sequence)-end_page):\n",
    "                img_to_save=wImage(img.sequence[page_num])\n",
    "                img_to_save.threshold(0.7)\n",
    "                img_to_save.compression_quality = 100\n",
    "                img_to_save.format='png'\n",
    "                \n",
    "                blankimage.composite(img_to_save, width_blank, height_blank)\n",
    "                height_blank+=img_to_save.height\n",
    "            \n",
    "            blankimage.save(filename = file_name+'.png')\n",
    "        \n",
    "    return file_name+'.png'"
   ]
  },
  {
   "cell_type": "code",
   "execution_count": 5,
   "metadata": {
    "collapsed": true
   },
   "outputs": [],
   "source": [
    "# function to iterate through lines\n",
    "def lines_iteration(text): \n",
    "    return iter(text.splitlines())"
   ]
  },
  {
   "cell_type": "markdown",
   "metadata": {},
   "source": [
    "### Code"
   ]
  },
  {
   "cell_type": "markdown",
   "metadata": {
    "scrolled": true
   },
   "source": [
    "Create the list of contracts to read:"
   ]
  },
  {
   "cell_type": "code",
   "execution_count": 4,
   "metadata": {
    "collapsed": true
   },
   "outputs": [],
   "source": [
    "# contract_id_list=[\"08a5089c916949cbba4f95bc4caddb8d\"]\n",
    "# #contract_name_list=[\"Овочі Єкименко.pdf\"]\n",
    "# contract_url_list=[\"https://public.docs.openprocurement.org/get/6c04c481772947108617d78c14151814?KeyID=52462340&Signature=z5IrOBxwdbra7ma56JmVFmLu6GA8Qcffu%252BIEId%2FUmCVGmZJjYgSW2FTema6kMjcMWc2ZRjD45Apj%252BIscAX0wBw%253D%253D\"]\n",
    "# contracts_id_url=dict(zip(contract_id_list, contract_url_list))"
   ]
  },
  {
   "cell_type": "code",
   "execution_count": null,
   "metadata": {
    "collapsed": true
   },
   "outputs": [],
   "source": []
  },
  {
   "cell_type": "code",
   "execution_count": 6,
   "metadata": {
    "collapsed": true
   },
   "outputs": [],
   "source": [
    "contracts=pd.read_excel(\"test_2.xlsx\")\n",
    "contracts.columns=[\"contract_id\", \"contract_url\", \"contract_name\", \"contract_format\"]\n",
    "\n",
    "contract_id_list=list(contracts[\"contract_id\"][contracts[\"contract_format\"]==\"application/pdf\"])[:10]\n",
    "contract_url_list=list(contracts[\"contract_url\"][contracts[\"contract_format\"]==\"application/pdf\"])[:10]\n",
    "\n",
    "contracts_id_url=dict(zip(contract_id_list, contract_url_list))"
   ]
  },
  {
   "cell_type": "markdown",
   "metadata": {},
   "source": [
    "Download and convert the text:"
   ]
  },
  {
   "cell_type": "code",
   "execution_count": null,
   "metadata": {
    "collapsed": true
   },
   "outputs": [],
   "source": []
  },
  {
   "cell_type": "markdown",
   "metadata": {},
   "source": [
    "# Append"
   ]
  },
  {
   "cell_type": "code",
   "execution_count": 27,
   "metadata": {
    "collapsed": true
   },
   "outputs": [],
   "source": [
    "# file_name=download_contract(contract_url_list[0], contract_id_list[0])                  \n",
    "# picture_names=convert_pdf_to_img(file_name, last_page=True)\n",
    "# degree=image_rotation(picture_names[0])"
   ]
  },
  {
   "cell_type": "code",
   "execution_count": null,
   "metadata": {
    "collapsed": true
   },
   "outputs": [],
   "source": []
  },
  {
   "cell_type": "code",
   "execution_count": 25,
   "metadata": {
    "collapsed": true
   },
   "outputs": [],
   "source": [
    "file_name=\"defa22a09d0346399c6246a3c74858a8.pdf\""
   ]
  },
  {
   "cell_type": "code",
   "execution_count": 26,
   "metadata": {},
   "outputs": [
    {
     "data": {
      "text/plain": [
       "'defa22a09d0346399c6246a3c74858a8.pdf.png'"
      ]
     },
     "execution_count": 26,
     "metadata": {},
     "output_type": "execute_result"
    }
   ],
   "source": [
    "convert_pdf_to_single_page_img(file_name, start_page=0, end_page=0)"
   ]
  },
  {
   "cell_type": "code",
   "execution_count": null,
   "metadata": {
    "collapsed": true
   },
   "outputs": [],
   "source": []
  },
  {
   "cell_type": "code",
   "execution_count": null,
   "metadata": {
    "collapsed": true
   },
   "outputs": [],
   "source": [
    "table_raw=[]\n",
    "\n",
    "list_of_goods=[\"a-95\", \"дизельне паливо\", \"a-92\"] # list of goods we are looking for\n",
    "\n",
    "for contract_id, contract_url in contracts_id_url.items(): # iterate over contracts\n",
    "    file_name=download_contract(contract_url, contract_id) # download the files, returns the file's name\n",
    "    picture_names=convert_pdf_to_img(file_name, last_page=True) # converts downloaded file into images\n",
    "    for picture in picture_names: # iterate over images of the contract\n",
    "        text_raw=pytesseract.image_to_string(Image.open(picture), lang=\"ukr\").lower() # convert image into the text\n",
    "        try:\n",
    "            text_raw=text_raw.split(\"специфікація\")[1]\n",
    "        except IndexError: # break if there is no specification\n",
    "            break\n",
    "        text_raw_list=list(lines_iteration(text_raw)) # converts text into the list of rows\n",
    "        print(\"Picture's name: \", picture)\n",
    "        print(text_raw_list)\n",
    "        print(\"________________\")\n",
    "        print(\"________________\")\n",
    "        text_w_goods_list=[]\n",
    "        for good in list_of_goods:\n",
    "            for line in text_raw_list:\n",
    "                if good in line:\n",
    "                    text_w_goods_list.append([line])\n",
    "    table_raw.append(text_w_goods_list)\n",
    "table_raw"
   ]
  }
 ],
 "metadata": {
  "hide_input": false,
  "kernelspec": {
   "display_name": "Python 3",
   "language": "python",
   "name": "python3"
  },
  "language_info": {
   "codemirror_mode": {
    "name": "ipython",
    "version": 3
   },
   "file_extension": ".py",
   "mimetype": "text/x-python",
   "name": "python",
   "nbconvert_exporter": "python",
   "pygments_lexer": "ipython3",
   "version": "3.5.4"
  },
  "toc": {
   "nav_menu": {},
   "number_sections": true,
   "sideBar": true,
   "skip_h1_title": false,
   "toc_cell": false,
   "toc_position": {},
   "toc_section_display": "block",
   "toc_window_display": false
  },
  "varInspector": {
   "cols": {
    "lenName": 16,
    "lenType": 16,
    "lenVar": 40
   },
   "kernels_config": {
    "python": {
     "delete_cmd_postfix": "",
     "delete_cmd_prefix": "del ",
     "library": "var_list.py",
     "varRefreshCmd": "print(var_dic_list())"
    },
    "r": {
     "delete_cmd_postfix": ") ",
     "delete_cmd_prefix": "rm(",
     "library": "var_list.r",
     "varRefreshCmd": "cat(var_dic_list()) "
    }
   },
   "types_to_exclude": [
    "module",
    "function",
    "builtin_function_or_method",
    "instance",
    "_Feature"
   ],
   "window_display": false
  }
 },
 "nbformat": 4,
 "nbformat_minor": 2
}
